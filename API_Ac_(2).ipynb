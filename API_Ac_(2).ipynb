{
  "nbformat": 4,
  "nbformat_minor": 0,
  "metadata": {
    "colab": {
      "provenance": []
    },
    "kernelspec": {
      "name": "python3",
      "display_name": "Python 3"
    },
    "language_info": {
      "name": "python"
    }
  },
  "cells": [
    {
      "cell_type": "markdown",
      "source": [
        "Antony Marques Guerrero\n"
      ],
      "metadata": {
        "id": "ua3tWpuhVMVr"
      }
    },
    {
      "cell_type": "markdown",
      "source": [
        "RA: 23011086"
      ],
      "metadata": {
        "id": "A079WGyqVPg7"
      }
    },
    {
      "cell_type": "code",
      "execution_count": null,
      "metadata": {
        "id": "GfRGUN9uRr9e"
      },
      "outputs": [],
      "source": [
        "import requests"
      ]
    },
    {
      "cell_type": "code",
      "source": [
        "chave = 'Au1Q27TEsP4KgBrfcE9lFXeDWw3bJGdkBKH9VQgz'"
      ],
      "metadata": {
        "id": "DHCwiJy5VsYa"
      },
      "execution_count": null,
      "outputs": []
    },
    {
      "cell_type": "code",
      "source": [
        "RA = 23011110\n",
        "RA = RA % 10\n",
        "dicionario = {0: \"FHAZ\"}\n",
        "\n",
        "camera = dicionario[RA]\n",
        "sol = 1500\n",
        "\n",
        "porta = f\"https://api.nasa.gov/mars-photos/api/v1/rovers/curiosity/photos?sol={sol}&api_key={chave}&camera={camera}\"\n",
        "\n",
        "get = requests.get(porta)\n",
        "\n",
        "json = get.json()\n",
        "print(json[\"photos\"][0][\"img_src\"])\n"
      ],
      "metadata": {
        "id": "tpNv9y0RSmG2",
        "colab": {
          "base_uri": "https://localhost:8080/"
        },
        "outputId": "4a1f606c-7194-42ee-a27a-e11ca9b2d293"
      },
      "execution_count": null,
      "outputs": [
        {
          "output_type": "stream",
          "name": "stdout",
          "text": [
            "http://mars.jpl.nasa.gov/msl-raw-images/proj/msl/redops/ods/surface/sol/01500/opgs/edr/fcam/FLB_530660118EDR_F0582394FHAZ00318M_.JPG\n"
          ]
        }
      ]
    }
  ]
}